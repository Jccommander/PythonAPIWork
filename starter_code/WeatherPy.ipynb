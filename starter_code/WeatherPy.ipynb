{
 "cells": [
  {
   "cell_type": "code",
   "execution_count": 6,
   "metadata": {
    "scrolled": true
   },
   "outputs": [],
   "source": [
    "# Dependencies and Setup\n",
    "import matplotlib.pyplot as plt\n",
    "import pandas as pd\n",
    "import numpy as np\n",
    "import requests\n",
    "import time\n",
    "import json\n",
    "\n",
    "# Import API key\n",
    "from config import api_key\n",
    "\n",
    "# Incorporated citipy to determine city based on latitude and longitude\n",
    "from citipy import citipy\n",
    "\n",
    "# Output File (CSV)\n",
    "output_data_file = \"output_data/cities.csv\"\n",
    "\n",
    "# Range of latitudes and longitudes\n",
    "lat_range = (-90, 90)\n",
    "lng_range = (-180, 180)"
   ]
  },
  {
   "cell_type": "markdown",
   "metadata": {},
   "source": [
    "## Generate Cities List"
   ]
  },
  {
   "cell_type": "code",
   "execution_count": null,
   "metadata": {},
   "outputs": [],
   "source": [
    "# List for holding lat_lngs and cities\n",
    "lat_lngs = []\n",
    "cities = []\n",
    "\n",
    "# Create a set of random lat and lng combinations\n",
    "lats = np.random.uniform(low=-90.000, high=90.000, size=1500)\n",
    "lngs = np.random.uniform(low=-180.000, high=180.000, size=1500)\n",
    "lat_lngs = zip(lats, lngs)\n",
    "\n",
    "# Identify nearest city for each lat, lng combination\n",
    "for lat_lng in lat_lngs:\n",
    "    city = citipy.nearest_city(lat_lng[0], lat_lng[1]).city_name\n",
    "    \n",
    "    # If the city is unique, then add it to a our cities list\n",
    "    if city not in cities:\n",
    "        cities.append(city)\n",
    "\n",
    "# Print the city count to confirm sufficient count\n",
    "len(cities)"
   ]
  },
  {
   "cell_type": "markdown",
   "metadata": {},
   "source": [
    "## Perform API Calls"
   ]
  },
  {
   "cell_type": "code",
   "execution_count": 4,
   "metadata": {},
   "outputs": [],
   "source": [
    "# OpenWeatherMap API Key\n",
    "api_key = api_key\n",
    "\n",
    "weather_data = []\n",
    "counter = 1\n",
    "\n",
    "# Starting URL for Weather Map API Call\n",
    "url = \"http://api.openweathermap.org/data/2.5/weather?units=Imperial&APPID=\" + api_key \n",
    "\n",
    "for city in cities:\n",
    "\n",
    "    # Build query URL\n",
    "    query_url = url + \"&q=\" + city\n",
    "    \n",
    "    # Request json file and decrypt it, using a Try / Exception Block to avoid errors\n",
    "    \n",
    "    try:\n",
    "        request = requests.get(query_url).json()\n",
    "    \n",
    "    # Store information from the city's json into the weather data list\n",
    "    \n",
    "        weather_data.append({\"City\":city})\n",
    "        weather_data.append({\"Temp\":request[\"main\"][\"temp\"]})\n",
    "        weather_data.append({\"Humidity\":request[\"main\"][\"humidity\"]})\n",
    "        weather_data.append({\"Clouds\":request[\"clouds\"][\"all\"]})\n",
    "        weather_data.append({\"Wind Speed\":request[\"wind\"][\"speed\"]})\n",
    "    \n",
    "    # Print success message, with the number of the current city and its name\n",
    "        print(f\"Successfully stored information for City #{counter}: {city}\")\n",
    "    \n",
    "    # Finish exception with an error message\n",
    "    except Exception:\n",
    "        print(f\"Unfortunately, there was an error for City #{counter}: {city}\")\n",
    "        \n",
    "    # Update counter, and then have the loop wait a second, so as to slow down the number of requests to the API\n",
    "    \n",
    "    counter += 1\n",
    "    \n",
    "    time.sleep(1)\n",
    "    \n"
   ]
  },
  {
   "cell_type": "code",
   "execution_count": 9,
   "metadata": {},
   "outputs": [
    {
     "name": "stdout",
     "output_type": "stream",
     "text": [
      "[{'City': 'London'}, {'Temp': 71.06}, {'Humidity': 46}, {'Clouds': 0}, {'Wind Speed': 12.75}]\n"
     ]
    }
   ],
   "source": [
    "query_url = url + \"&q=\" + \"london\"\n",
    "\n",
    "we_data = []\n",
    "\n",
    "request = requests.get(query_url).json()\n",
    "\n",
    "we_data.append({\"City\":\"London\"})\n",
    "we_data.append({\"Temp\":request[\"main\"][\"temp\"]})\n",
    "we_data.append({\"Humidity\":request[\"main\"][\"humidity\"]})\n",
    "we_data.append({\"Clouds\":request[\"clouds\"][\"all\"]})\n",
    "we_data.append({\"Wind Speed\":request[\"wind\"][\"speed\"]})\n",
    "\n",
    "print(we_data)\n"
   ]
  },
  {
   "cell_type": "code",
   "execution_count": null,
   "metadata": {},
   "outputs": [],
   "source": []
  }
 ],
 "metadata": {
  "anaconda-cloud": {},
  "kernelspec": {
   "display_name": "Python [conda env:PythonData]",
   "language": "python",
   "name": "conda-env-PythonData-py"
  },
  "language_info": {
   "codemirror_mode": {
    "name": "ipython",
    "version": 3
   },
   "file_extension": ".py",
   "mimetype": "text/x-python",
   "name": "python",
   "nbconvert_exporter": "python",
   "pygments_lexer": "ipython3",
   "version": "3.6.5"
  }
 },
 "nbformat": 4,
 "nbformat_minor": 1
}
